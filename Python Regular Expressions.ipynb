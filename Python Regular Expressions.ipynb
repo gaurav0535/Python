{
 "cells": [
  {
   "cell_type": "code",
   "execution_count": 92,
   "metadata": {},
   "outputs": [],
   "source": [
    "import re"
   ]
  },
  {
   "cell_type": "code",
   "execution_count": 93,
   "metadata": {},
   "outputs": [],
   "source": [
    "text_to_search = '''\n",
    "abcdefghijklmnopqrstuvwxyz\n",
    "ABCDEFGHIJKLMNOPQRSTUVWXYZ\n",
    "1234567890\n",
    "\n",
    "Ha Haaa\n",
    "\n",
    "MetaCharacters (Need to be escaped):\n",
    ". < > ? / : ; \"\" { } [ ] \\ ( )\n",
    "\n",
    "dasabcdsds\n",
    "\n",
    "coreyms.com\n",
    "\n",
    "321-333-121\n",
    "\n",
    "214=414=411\n",
    "\n",
    "123.123.134\n",
    "\n",
    "Mr. Gaurav\n",
    "Mrs. Archana\n",
    "\n",
    "'''"
   ]
  },
  {
   "cell_type": "code",
   "execution_count": 94,
   "metadata": {},
   "outputs": [],
   "source": [
    "sentence = 'Start a sentence and then bring it to an end'"
   ]
  },
  {
   "cell_type": "code",
   "execution_count": 95,
   "metadata": {},
   "outputs": [
    {
     "name": "stdout",
     "output_type": "stream",
     "text": [
      "\tGaurav\n"
     ]
    }
   ],
   "source": [
    "print('\\tGaurav')"
   ]
  },
  {
   "cell_type": "code",
   "execution_count": 96,
   "metadata": {},
   "outputs": [],
   "source": [
    "pattern = re.compile(r'abc')"
   ]
  },
  {
   "cell_type": "code",
   "execution_count": 97,
   "metadata": {},
   "outputs": [
    {
     "name": "stdout",
     "output_type": "stream",
     "text": [
      "<re.Match object; span=(1, 4), match='abc'>\n",
      "<re.Match object; span=(148, 151), match='abc'>\n"
     ]
    }
   ],
   "source": [
    "matches = pattern.finditer(text_to_search)\n",
    "\n",
    "\n",
    "for match in matches:\n",
    "    print(match)"
   ]
  },
  {
   "cell_type": "code",
   "execution_count": 98,
   "metadata": {},
   "outputs": [
    {
     "data": {
      "text/plain": [
       "'abc'"
      ]
     },
     "execution_count": 98,
     "metadata": {},
     "output_type": "execute_result"
    }
   ],
   "source": [
    "text_to_search[148:151]"
   ]
  },
  {
   "cell_type": "code",
   "execution_count": 99,
   "metadata": {},
   "outputs": [],
   "source": [
    "new_pattern = re.compile(r'\\w')"
   ]
  },
  {
   "cell_type": "code",
   "execution_count": 100,
   "metadata": {},
   "outputs": [
    {
     "name": "stdout",
     "output_type": "stream",
     "text": [
      "<re.Match object; span=(1, 2), match='a'>\n",
      "<re.Match object; span=(2, 3), match='b'>\n",
      "<re.Match object; span=(3, 4), match='c'>\n",
      "<re.Match object; span=(4, 5), match='d'>\n",
      "<re.Match object; span=(5, 6), match='e'>\n",
      "<re.Match object; span=(6, 7), match='f'>\n",
      "<re.Match object; span=(7, 8), match='g'>\n",
      "<re.Match object; span=(8, 9), match='h'>\n",
      "<re.Match object; span=(9, 10), match='i'>\n",
      "<re.Match object; span=(10, 11), match='j'>\n",
      "<re.Match object; span=(11, 12), match='k'>\n",
      "<re.Match object; span=(12, 13), match='l'>\n",
      "<re.Match object; span=(13, 14), match='m'>\n",
      "<re.Match object; span=(14, 15), match='n'>\n",
      "<re.Match object; span=(15, 16), match='o'>\n",
      "<re.Match object; span=(16, 17), match='p'>\n",
      "<re.Match object; span=(17, 18), match='q'>\n",
      "<re.Match object; span=(18, 19), match='r'>\n",
      "<re.Match object; span=(19, 20), match='s'>\n",
      "<re.Match object; span=(20, 21), match='t'>\n",
      "<re.Match object; span=(21, 22), match='u'>\n",
      "<re.Match object; span=(22, 23), match='v'>\n",
      "<re.Match object; span=(23, 24), match='w'>\n",
      "<re.Match object; span=(24, 25), match='x'>\n",
      "<re.Match object; span=(25, 26), match='y'>\n",
      "<re.Match object; span=(26, 27), match='z'>\n",
      "<re.Match object; span=(28, 29), match='A'>\n",
      "<re.Match object; span=(29, 30), match='B'>\n",
      "<re.Match object; span=(30, 31), match='C'>\n",
      "<re.Match object; span=(31, 32), match='D'>\n",
      "<re.Match object; span=(32, 33), match='E'>\n",
      "<re.Match object; span=(33, 34), match='F'>\n",
      "<re.Match object; span=(34, 35), match='G'>\n",
      "<re.Match object; span=(35, 36), match='H'>\n",
      "<re.Match object; span=(36, 37), match='I'>\n",
      "<re.Match object; span=(37, 38), match='J'>\n",
      "<re.Match object; span=(38, 39), match='K'>\n",
      "<re.Match object; span=(39, 40), match='L'>\n",
      "<re.Match object; span=(40, 41), match='M'>\n",
      "<re.Match object; span=(41, 42), match='N'>\n",
      "<re.Match object; span=(42, 43), match='O'>\n",
      "<re.Match object; span=(43, 44), match='P'>\n",
      "<re.Match object; span=(44, 45), match='Q'>\n",
      "<re.Match object; span=(45, 46), match='R'>\n",
      "<re.Match object; span=(46, 47), match='S'>\n",
      "<re.Match object; span=(47, 48), match='T'>\n",
      "<re.Match object; span=(48, 49), match='U'>\n",
      "<re.Match object; span=(49, 50), match='V'>\n",
      "<re.Match object; span=(50, 51), match='W'>\n",
      "<re.Match object; span=(51, 52), match='X'>\n",
      "<re.Match object; span=(52, 53), match='Y'>\n",
      "<re.Match object; span=(53, 54), match='Z'>\n",
      "<re.Match object; span=(55, 56), match='1'>\n",
      "<re.Match object; span=(56, 57), match='2'>\n",
      "<re.Match object; span=(57, 58), match='3'>\n",
      "<re.Match object; span=(58, 59), match='4'>\n",
      "<re.Match object; span=(59, 60), match='5'>\n",
      "<re.Match object; span=(60, 61), match='6'>\n",
      "<re.Match object; span=(61, 62), match='7'>\n",
      "<re.Match object; span=(62, 63), match='8'>\n",
      "<re.Match object; span=(63, 64), match='9'>\n",
      "<re.Match object; span=(64, 65), match='0'>\n",
      "<re.Match object; span=(67, 68), match='H'>\n",
      "<re.Match object; span=(68, 69), match='a'>\n",
      "<re.Match object; span=(70, 71), match='H'>\n",
      "<re.Match object; span=(71, 72), match='a'>\n",
      "<re.Match object; span=(72, 73), match='a'>\n",
      "<re.Match object; span=(73, 74), match='a'>\n",
      "<re.Match object; span=(76, 77), match='M'>\n",
      "<re.Match object; span=(77, 78), match='e'>\n",
      "<re.Match object; span=(78, 79), match='t'>\n",
      "<re.Match object; span=(79, 80), match='a'>\n",
      "<re.Match object; span=(80, 81), match='C'>\n",
      "<re.Match object; span=(81, 82), match='h'>\n",
      "<re.Match object; span=(82, 83), match='a'>\n",
      "<re.Match object; span=(83, 84), match='r'>\n",
      "<re.Match object; span=(84, 85), match='a'>\n",
      "<re.Match object; span=(85, 86), match='c'>\n",
      "<re.Match object; span=(86, 87), match='t'>\n",
      "<re.Match object; span=(87, 88), match='e'>\n",
      "<re.Match object; span=(88, 89), match='r'>\n",
      "<re.Match object; span=(89, 90), match='s'>\n",
      "<re.Match object; span=(92, 93), match='N'>\n",
      "<re.Match object; span=(93, 94), match='e'>\n",
      "<re.Match object; span=(94, 95), match='e'>\n",
      "<re.Match object; span=(95, 96), match='d'>\n",
      "<re.Match object; span=(97, 98), match='t'>\n",
      "<re.Match object; span=(98, 99), match='o'>\n",
      "<re.Match object; span=(100, 101), match='b'>\n",
      "<re.Match object; span=(101, 102), match='e'>\n",
      "<re.Match object; span=(103, 104), match='e'>\n",
      "<re.Match object; span=(104, 105), match='s'>\n",
      "<re.Match object; span=(105, 106), match='c'>\n",
      "<re.Match object; span=(106, 107), match='a'>\n",
      "<re.Match object; span=(107, 108), match='p'>\n",
      "<re.Match object; span=(108, 109), match='e'>\n",
      "<re.Match object; span=(109, 110), match='d'>\n",
      "<re.Match object; span=(145, 146), match='d'>\n",
      "<re.Match object; span=(146, 147), match='a'>\n",
      "<re.Match object; span=(147, 148), match='s'>\n",
      "<re.Match object; span=(148, 149), match='a'>\n",
      "<re.Match object; span=(149, 150), match='b'>\n",
      "<re.Match object; span=(150, 151), match='c'>\n",
      "<re.Match object; span=(151, 152), match='d'>\n",
      "<re.Match object; span=(152, 153), match='s'>\n",
      "<re.Match object; span=(153, 154), match='d'>\n",
      "<re.Match object; span=(154, 155), match='s'>\n",
      "<re.Match object; span=(157, 158), match='c'>\n",
      "<re.Match object; span=(158, 159), match='o'>\n",
      "<re.Match object; span=(159, 160), match='r'>\n",
      "<re.Match object; span=(160, 161), match='e'>\n",
      "<re.Match object; span=(161, 162), match='y'>\n",
      "<re.Match object; span=(162, 163), match='m'>\n",
      "<re.Match object; span=(163, 164), match='s'>\n",
      "<re.Match object; span=(165, 166), match='c'>\n",
      "<re.Match object; span=(166, 167), match='o'>\n",
      "<re.Match object; span=(167, 168), match='m'>\n",
      "<re.Match object; span=(170, 171), match='3'>\n",
      "<re.Match object; span=(171, 172), match='2'>\n",
      "<re.Match object; span=(172, 173), match='1'>\n",
      "<re.Match object; span=(174, 175), match='3'>\n",
      "<re.Match object; span=(175, 176), match='3'>\n",
      "<re.Match object; span=(176, 177), match='3'>\n",
      "<re.Match object; span=(178, 179), match='1'>\n",
      "<re.Match object; span=(179, 180), match='2'>\n",
      "<re.Match object; span=(180, 181), match='1'>\n",
      "<re.Match object; span=(183, 184), match='2'>\n",
      "<re.Match object; span=(184, 185), match='1'>\n",
      "<re.Match object; span=(185, 186), match='4'>\n",
      "<re.Match object; span=(187, 188), match='4'>\n",
      "<re.Match object; span=(188, 189), match='1'>\n",
      "<re.Match object; span=(189, 190), match='4'>\n",
      "<re.Match object; span=(191, 192), match='4'>\n",
      "<re.Match object; span=(192, 193), match='1'>\n",
      "<re.Match object; span=(193, 194), match='1'>\n",
      "<re.Match object; span=(196, 197), match='1'>\n",
      "<re.Match object; span=(197, 198), match='2'>\n",
      "<re.Match object; span=(198, 199), match='3'>\n",
      "<re.Match object; span=(200, 201), match='1'>\n",
      "<re.Match object; span=(201, 202), match='2'>\n",
      "<re.Match object; span=(202, 203), match='3'>\n",
      "<re.Match object; span=(204, 205), match='1'>\n",
      "<re.Match object; span=(205, 206), match='3'>\n",
      "<re.Match object; span=(206, 207), match='4'>\n",
      "<re.Match object; span=(209, 210), match='M'>\n",
      "<re.Match object; span=(210, 211), match='r'>\n",
      "<re.Match object; span=(213, 214), match='G'>\n",
      "<re.Match object; span=(214, 215), match='a'>\n",
      "<re.Match object; span=(215, 216), match='u'>\n",
      "<re.Match object; span=(216, 217), match='r'>\n",
      "<re.Match object; span=(217, 218), match='a'>\n",
      "<re.Match object; span=(218, 219), match='v'>\n",
      "<re.Match object; span=(220, 221), match='M'>\n",
      "<re.Match object; span=(221, 222), match='r'>\n",
      "<re.Match object; span=(222, 223), match='s'>\n",
      "<re.Match object; span=(225, 226), match='A'>\n",
      "<re.Match object; span=(226, 227), match='r'>\n",
      "<re.Match object; span=(227, 228), match='c'>\n",
      "<re.Match object; span=(228, 229), match='h'>\n",
      "<re.Match object; span=(229, 230), match='a'>\n",
      "<re.Match object; span=(230, 231), match='n'>\n",
      "<re.Match object; span=(231, 232), match='a'>\n"
     ]
    }
   ],
   "source": [
    "new_matches = new_pattern.finditer(text_to_search)\n",
    "\n",
    "for match in new_matches:\n",
    "    print(match)"
   ]
  },
  {
   "cell_type": "code",
   "execution_count": 101,
   "metadata": {},
   "outputs": [
    {
     "name": "stdout",
     "output_type": "stream",
     "text": [
      "<re.Match object; span=(0, 1), match='\\n'>\n",
      "<re.Match object; span=(27, 28), match='\\n'>\n",
      "<re.Match object; span=(54, 55), match='\\n'>\n",
      "<re.Match object; span=(65, 66), match='\\n'>\n",
      "<re.Match object; span=(66, 67), match='\\n'>\n",
      "<re.Match object; span=(69, 70), match=' '>\n",
      "<re.Match object; span=(74, 75), match='\\n'>\n",
      "<re.Match object; span=(75, 76), match='\\n'>\n",
      "<re.Match object; span=(90, 91), match=' '>\n",
      "<re.Match object; span=(91, 92), match='('>\n",
      "<re.Match object; span=(96, 97), match=' '>\n",
      "<re.Match object; span=(99, 100), match=' '>\n",
      "<re.Match object; span=(102, 103), match=' '>\n",
      "<re.Match object; span=(110, 111), match=')'>\n",
      "<re.Match object; span=(111, 112), match=':'>\n",
      "<re.Match object; span=(112, 113), match='\\n'>\n",
      "<re.Match object; span=(113, 114), match='.'>\n",
      "<re.Match object; span=(114, 115), match=' '>\n",
      "<re.Match object; span=(115, 116), match='<'>\n",
      "<re.Match object; span=(116, 117), match=' '>\n",
      "<re.Match object; span=(117, 118), match='>'>\n",
      "<re.Match object; span=(118, 119), match=' '>\n",
      "<re.Match object; span=(119, 120), match='?'>\n",
      "<re.Match object; span=(120, 121), match=' '>\n",
      "<re.Match object; span=(121, 122), match='/'>\n",
      "<re.Match object; span=(122, 123), match=' '>\n",
      "<re.Match object; span=(123, 124), match=':'>\n",
      "<re.Match object; span=(124, 125), match=' '>\n",
      "<re.Match object; span=(125, 126), match=';'>\n",
      "<re.Match object; span=(126, 127), match=' '>\n",
      "<re.Match object; span=(127, 128), match='\"'>\n",
      "<re.Match object; span=(128, 129), match='\"'>\n",
      "<re.Match object; span=(129, 130), match=' '>\n",
      "<re.Match object; span=(130, 131), match='{'>\n",
      "<re.Match object; span=(131, 132), match=' '>\n",
      "<re.Match object; span=(132, 133), match='}'>\n",
      "<re.Match object; span=(133, 134), match=' '>\n",
      "<re.Match object; span=(134, 135), match='['>\n",
      "<re.Match object; span=(135, 136), match=' '>\n",
      "<re.Match object; span=(136, 137), match=']'>\n",
      "<re.Match object; span=(137, 138), match=' '>\n",
      "<re.Match object; span=(138, 139), match='\\\\'>\n",
      "<re.Match object; span=(139, 140), match=' '>\n",
      "<re.Match object; span=(140, 141), match='('>\n",
      "<re.Match object; span=(141, 142), match=' '>\n",
      "<re.Match object; span=(142, 143), match=')'>\n",
      "<re.Match object; span=(143, 144), match='\\n'>\n",
      "<re.Match object; span=(144, 145), match='\\n'>\n",
      "<re.Match object; span=(155, 156), match='\\n'>\n",
      "<re.Match object; span=(156, 157), match='\\n'>\n",
      "<re.Match object; span=(164, 165), match='.'>\n",
      "<re.Match object; span=(168, 169), match='\\n'>\n",
      "<re.Match object; span=(169, 170), match='\\n'>\n",
      "<re.Match object; span=(173, 174), match='-'>\n",
      "<re.Match object; span=(177, 178), match='-'>\n",
      "<re.Match object; span=(181, 182), match='\\n'>\n",
      "<re.Match object; span=(182, 183), match='\\n'>\n",
      "<re.Match object; span=(186, 187), match='='>\n",
      "<re.Match object; span=(190, 191), match='='>\n",
      "<re.Match object; span=(194, 195), match='\\n'>\n",
      "<re.Match object; span=(195, 196), match='\\n'>\n",
      "<re.Match object; span=(199, 200), match='.'>\n",
      "<re.Match object; span=(203, 204), match='.'>\n",
      "<re.Match object; span=(207, 208), match='\\n'>\n",
      "<re.Match object; span=(208, 209), match='\\n'>\n",
      "<re.Match object; span=(211, 212), match='.'>\n",
      "<re.Match object; span=(212, 213), match=' '>\n",
      "<re.Match object; span=(219, 220), match='\\n'>\n",
      "<re.Match object; span=(223, 224), match='.'>\n",
      "<re.Match object; span=(224, 225), match=' '>\n",
      "<re.Match object; span=(232, 233), match='\\n'>\n",
      "<re.Match object; span=(233, 234), match='\\n'>\n"
     ]
    }
   ],
   "source": [
    "new_pattern = re.compile(r'\\W')\n",
    "\n",
    "new_matches = new_pattern.finditer(text_to_search)\n",
    "\n",
    "for match in new_matches:\n",
    "    print(match)"
   ]
  },
  {
   "cell_type": "code",
   "execution_count": 102,
   "metadata": {},
   "outputs": [
    {
     "name": "stdout",
     "output_type": "stream",
     "text": [
      "<re.Match object; span=(67, 69), match='Ha'>\n",
      "<re.Match object; span=(70, 72), match='Ha'>\n"
     ]
    }
   ],
   "source": [
    "new_pattern = re.compile(r'\\bHa')\n",
    "\n",
    "new_matches = new_pattern.finditer(text_to_search)\n",
    "\n",
    "for match in new_matches:\n",
    "    print(match)"
   ]
  },
  {
   "cell_type": "code",
   "execution_count": 103,
   "metadata": {},
   "outputs": [
    {
     "name": "stdout",
     "output_type": "stream",
     "text": [
      "<re.Match object; span=(42, 44), match='nd'>\n"
     ]
    }
   ],
   "source": [
    "new_pattern = re.compile(r'nd$')\n",
    "\n",
    "new_matches = new_pattern.finditer(sentence)\n",
    "\n",
    "for match in new_matches:\n",
    "    print(match)"
   ]
  },
  {
   "cell_type": "code",
   "execution_count": 104,
   "metadata": {},
   "outputs": [
    {
     "data": {
      "text/plain": [
       "'nd'"
      ]
     },
     "execution_count": 104,
     "metadata": {},
     "output_type": "execute_result"
    }
   ],
   "source": [
    "sentence[42:44]"
   ]
  },
  {
   "cell_type": "code",
   "execution_count": 105,
   "metadata": {},
   "outputs": [
    {
     "name": "stdout",
     "output_type": "stream",
     "text": [
      "<re.Match object; span=(170, 181), match='321-333-121'>\n",
      "<re.Match object; span=(183, 194), match='214=414=411'>\n",
      "<re.Match object; span=(196, 207), match='123.123.134'>\n"
     ]
    }
   ],
   "source": [
    "new_pattern = re.compile(r'\\d\\d\\d.\\d\\d\\d.\\d\\d\\d')\n",
    "\n",
    "new_matches = new_pattern.finditer(text_to_search)\n",
    "\n",
    "for match in new_matches:\n",
    "    print(match)"
   ]
  },
  {
   "cell_type": "code",
   "execution_count": 106,
   "metadata": {},
   "outputs": [
    {
     "name": "stdout",
     "output_type": "stream",
     "text": [
      "<re.Match object; span=(170, 181), match='321-333-121'>\n"
     ]
    }
   ],
   "source": [
    "new_pattern = re.compile(r'\\d\\d\\d-\\d\\d\\d-\\d\\d\\d')\n",
    "\n",
    "new_matches = new_pattern.finditer(text_to_search)\n",
    "\n",
    "for match in new_matches:\n",
    "    print(match)"
   ]
  },
  {
   "cell_type": "code",
   "execution_count": 107,
   "metadata": {},
   "outputs": [],
   "source": [
    "text_to_search1 = '''\n",
    "abcdefghijklmnopqrstuvwxyz\n",
    "ABCDEFGHIJKLMNOPQRSTUVWXYZ\n",
    "1234567890\n",
    "\n",
    "Ha Haaa\n",
    "\n",
    "MetaCharacters (Need to be escaped):\n",
    ". < > ? / : ; \"\" { } [ ] \\ ( )\n",
    "\n",
    "dasabcdsds\n",
    "\n",
    "coreyms.com\n",
    "\n",
    "321--333-121\n",
    "\n",
    "214=414=411\n",
    "\n",
    "321-423-132\n",
    "\n",
    "123.123.134\n",
    "\n",
    "Mr. Gaurav\n",
    "Mrs. Archana\n",
    "\n",
    "'''"
   ]
  },
  {
   "cell_type": "code",
   "execution_count": 108,
   "metadata": {},
   "outputs": [
    {
     "name": "stdout",
     "output_type": "stream",
     "text": [
      "<re.Match object; span=(197, 208), match='321-423-132'>\n"
     ]
    }
   ],
   "source": [
    "new_pattern = re.compile(r'\\d\\d\\d-\\d\\d\\d-\\d\\d\\d')\n",
    "\n",
    "new_matches = new_pattern.finditer(text_to_search1)\n",
    "\n",
    "for match in new_matches:\n",
    "    print(match)"
   ]
  },
  {
   "cell_type": "code",
   "execution_count": 109,
   "metadata": {},
   "outputs": [
    {
     "name": "stdout",
     "output_type": "stream",
     "text": [
      "<re.Match object; span=(197, 208), match='321-423-132'>\n",
      "<re.Match object; span=(210, 221), match='123.123.134'>\n"
     ]
    }
   ],
   "source": [
    "new_pattern = re.compile(r'\\d\\d\\d[-.]\\d\\d\\d[-.]\\d\\d\\d')\n",
    "\n",
    "new_matches = new_pattern.finditer(text_to_search1)\n",
    "\n",
    "for match in new_matches:\n",
    "    print(match)"
   ]
  },
  {
   "cell_type": "code",
   "execution_count": 110,
   "metadata": {},
   "outputs": [
    {
     "name": "stdout",
     "output_type": "stream",
     "text": [
      "a\n",
      "b\n",
      "c\n",
      "d\n",
      "e\n",
      "f\n",
      "g\n",
      "h\n",
      "i\n",
      "j\n",
      "k\n",
      "l\n",
      "m\n",
      "n\n",
      "o\n",
      "p\n",
      "q\n",
      "r\n",
      "s\n",
      "t\n",
      "u\n",
      "v\n",
      "w\n",
      "x\n",
      "y\n",
      "z\n",
      "a\n",
      "a\n",
      "a\n",
      "a\n",
      "e\n",
      "t\n",
      "a\n",
      "h\n",
      "a\n",
      "r\n",
      "a\n",
      "c\n",
      "t\n",
      "e\n",
      "r\n",
      "s\n",
      "e\n",
      "e\n",
      "d\n",
      "t\n",
      "o\n",
      "b\n",
      "e\n",
      "e\n",
      "s\n",
      "c\n",
      "a\n",
      "p\n",
      "e\n",
      "d\n",
      "d\n",
      "a\n",
      "s\n",
      "a\n",
      "b\n",
      "c\n",
      "d\n",
      "s\n",
      "d\n",
      "s\n",
      "c\n",
      "o\n",
      "r\n",
      "e\n",
      "y\n",
      "m\n",
      "s\n",
      "c\n",
      "o\n",
      "m\n",
      "r\n",
      "a\n",
      "u\n",
      "r\n",
      "a\n",
      "v\n",
      "r\n",
      "s\n",
      "r\n",
      "c\n",
      "h\n",
      "a\n",
      "n\n",
      "a\n"
     ]
    }
   ],
   "source": [
    "new_pattern = re.compile(r'[a-z]')\n",
    "\n",
    "new_matches = new_pattern.finditer(text_to_search1)\n",
    "\n",
    "for match in new_matches:\n",
    "    print(match.group())"
   ]
  },
  {
   "cell_type": "code",
   "execution_count": 111,
   "metadata": {},
   "outputs": [],
   "source": [
    "#Extracting dates and timestamps using regex"
   ]
  },
  {
   "cell_type": "code",
   "execution_count": 137,
   "metadata": {},
   "outputs": [],
   "source": [
    "a = 'Made payment on 10/12/2019'\n",
    "b = 'This year valentine was on 14/12/2019 next year it will be on Tuesday'\n",
    "c = 'Today is 12/09/2019'"
   ]
  },
  {
   "cell_type": "code",
   "execution_count": 138,
   "metadata": {},
   "outputs": [],
   "source": [
    "date_pattern = r'([0-9]{2}\\/[0-9]{2}\\/[0-9]{4})'"
   ]
  },
  {
   "cell_type": "code",
   "execution_count": 139,
   "metadata": {},
   "outputs": [],
   "source": [
    "data = re.search(date_pattern,a)"
   ]
  },
  {
   "cell_type": "code",
   "execution_count": 140,
   "metadata": {},
   "outputs": [
    {
     "data": {
      "text/plain": [
       "<re.Match object; span=(16, 26), match='10/12/2019'>"
      ]
     },
     "execution_count": 140,
     "metadata": {},
     "output_type": "execute_result"
    }
   ],
   "source": [
    "data"
   ]
  },
  {
   "cell_type": "code",
   "execution_count": 141,
   "metadata": {},
   "outputs": [],
   "source": [
    "data = re.search(date_pattern,b)"
   ]
  },
  {
   "cell_type": "code",
   "execution_count": 142,
   "metadata": {},
   "outputs": [
    {
     "data": {
      "text/plain": [
       "<re.Match object; span=(27, 37), match='14/12/2019'>"
      ]
     },
     "execution_count": 142,
     "metadata": {},
     "output_type": "execute_result"
    }
   ],
   "source": [
    "data"
   ]
  },
  {
   "cell_type": "code",
   "execution_count": 143,
   "metadata": {},
   "outputs": [],
   "source": [
    "data2 = re.search(date_pattern,c)"
   ]
  },
  {
   "cell_type": "code",
   "execution_count": 144,
   "metadata": {},
   "outputs": [
    {
     "data": {
      "text/plain": [
       "<re.Match object; span=(9, 19), match='12/09/2019'>"
      ]
     },
     "execution_count": 144,
     "metadata": {},
     "output_type": "execute_result"
    }
   ],
   "source": [
    "data2"
   ]
  },
  {
   "cell_type": "code",
   "execution_count": 147,
   "metadata": {},
   "outputs": [],
   "source": [
    "NameAge = '''\n",
    "\n",
    "Gaurav is 22 and Amit is 34\n",
    "Archana is 23 and Anshu is 22\n",
    "\n",
    "'''"
   ]
  },
  {
   "cell_type": "code",
   "execution_count": 148,
   "metadata": {},
   "outputs": [],
   "source": [
    "ages = re.findall(r'\\d{1,3}',NameAge)\n",
    "names = re.findall(r'[A-Z][a-z]*',NameAge)"
   ]
  },
  {
   "cell_type": "code",
   "execution_count": 149,
   "metadata": {},
   "outputs": [
    {
     "data": {
      "text/plain": [
       "['22', '34', '23', '22']"
      ]
     },
     "execution_count": 149,
     "metadata": {},
     "output_type": "execute_result"
    }
   ],
   "source": [
    "ages"
   ]
  },
  {
   "cell_type": "code",
   "execution_count": 150,
   "metadata": {},
   "outputs": [
    {
     "data": {
      "text/plain": [
       "{'Gaurav': '22', 'Amit': '34', 'Archana': '23', 'Anshu': '22'}"
      ]
     },
     "execution_count": 150,
     "metadata": {},
     "output_type": "execute_result"
    }
   ],
   "source": [
    "x = 0\n",
    "\n",
    "ageDict = {}\n",
    "\n",
    "for eachname in names:\n",
    "    ageDict[eachname] = ages[x]\n",
    "    x = x+1\n",
    "    \n",
    "ageDict"
   ]
  },
  {
   "cell_type": "code",
   "execution_count": 151,
   "metadata": {},
   "outputs": [
    {
     "name": "stdout",
     "output_type": "stream",
     "text": [
      "Got It\n"
     ]
    }
   ],
   "source": [
    "if re.search('year',b):\n",
    "    print(\"Got It\")\n",
    "else:\n",
    "    print(\"nopes\")"
   ]
  },
  {
   "cell_type": "code",
   "execution_count": 154,
   "metadata": {},
   "outputs": [],
   "source": [
    "str1 = 'Sat mat pat rat'\n",
    "\n",
    "allstr = re.findall(\"[Ssrmp]at\",str1)"
   ]
  },
  {
   "cell_type": "code",
   "execution_count": 155,
   "metadata": {},
   "outputs": [
    {
     "data": {
      "text/plain": [
       "['Sat', 'mat', 'pat', 'rat']"
      ]
     },
     "execution_count": 155,
     "metadata": {},
     "output_type": "execute_result"
    }
   ],
   "source": [
    "allstr"
   ]
  },
  {
   "cell_type": "code",
   "execution_count": null,
   "metadata": {},
   "outputs": [],
   "source": []
  },
  {
   "cell_type": "code",
   "execution_count": null,
   "metadata": {},
   "outputs": [],
   "source": []
  },
  {
   "cell_type": "code",
   "execution_count": null,
   "metadata": {},
   "outputs": [],
   "source": []
  },
  {
   "cell_type": "code",
   "execution_count": null,
   "metadata": {},
   "outputs": [],
   "source": []
  }
 ],
 "metadata": {
  "kernelspec": {
   "display_name": "Python 3",
   "language": "python",
   "name": "python3"
  },
  "language_info": {
   "codemirror_mode": {
    "name": "ipython",
    "version": 3
   },
   "file_extension": ".py",
   "mimetype": "text/x-python",
   "name": "python",
   "nbconvert_exporter": "python",
   "pygments_lexer": "ipython3",
   "version": "3.7.4"
  }
 },
 "nbformat": 4,
 "nbformat_minor": 2
}
